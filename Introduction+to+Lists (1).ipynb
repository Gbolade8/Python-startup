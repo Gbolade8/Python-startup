{
  "cells": [
    {
      "cell_type": "code",
      "execution_count": null,
      "metadata": {
        "collapsed": true,
        "id": "KqabuWYVFXgI"
      },
      "outputs": [],
      "source": [
        "a = [3, 10, -1]\n",
        "# csdojo.io/python4\n",
        "# PyCharm, IDE"
      ]
    },
    {
      "cell_type": "code",
      "execution_count": null,
      "metadata": {
        "id": "JWtYR6j1FXgM",
        "outputId": "e8d003a6-56db-4564-b840-3db2d22a7455"
      },
      "outputs": [
        {
          "name": "stdout",
          "output_type": "stream",
          "text": [
            "[3, 10, -1]\n"
          ]
        }
      ],
      "source": [
        "print(a)"
      ]
    },
    {
      "cell_type": "code",
      "execution_count": null,
      "metadata": {
        "collapsed": true,
        "id": "f11PC4n5FXgN"
      },
      "outputs": [],
      "source": [
        "a.append(1)"
      ]
    },
    {
      "cell_type": "code",
      "execution_count": null,
      "metadata": {
        "id": "xHt2bZepFXgO",
        "outputId": "781da451-549b-446d-c6ad-a0a44bfe2034"
      },
      "outputs": [
        {
          "name": "stdout",
          "output_type": "stream",
          "text": [
            "[3, 10, -1, 1]\n"
          ]
        }
      ],
      "source": [
        "print(a)"
      ]
    },
    {
      "cell_type": "code",
      "execution_count": null,
      "metadata": {
        "id": "mnwu_LSeFXgO",
        "outputId": "3b7d1609-2f8c-41ce-d2da-5e9e8e071dbb"
      },
      "outputs": [
        {
          "name": "stdout",
          "output_type": "stream",
          "text": [
            "[3, 10, -1, 1, 'hello']\n"
          ]
        }
      ],
      "source": [
        "a.append(\"hello\")\n",
        "print(a)"
      ]
    },
    {
      "cell_type": "code",
      "execution_count": null,
      "metadata": {
        "id": "IfeTzRn7FXgP",
        "outputId": "0f3c4e72-8207-46ed-c094-5b83da79d68f"
      },
      "outputs": [
        {
          "name": "stdout",
          "output_type": "stream",
          "text": [
            "[3, 10, -1, 1, 'hello', [1, 2]]\n"
          ]
        }
      ],
      "source": [
        "a.append([1, 2])\n",
        "print(a)"
      ]
    },
    {
      "cell_type": "code",
      "execution_count": null,
      "metadata": {
        "id": "8MKVTr4WFXgP",
        "outputId": "e9a0d30a-a562-4103-d773-d7c038f5f2ed"
      },
      "outputs": [
        {
          "name": "stdout",
          "output_type": "stream",
          "text": [
            "[3, 10, -1, 1, 'hello']\n"
          ]
        }
      ],
      "source": [
        "a.pop()\n",
        "print(a)"
      ]
    },
    {
      "cell_type": "code",
      "execution_count": null,
      "metadata": {
        "id": "5pvuWaZWFXgQ",
        "outputId": "838fdce5-d752-4b53-e8a3-df13de084b83"
      },
      "outputs": [
        {
          "name": "stdout",
          "output_type": "stream",
          "text": [
            "[3, 10, -1, 1]\n"
          ]
        }
      ],
      "source": [
        "a.pop()\n",
        "print(a)"
      ]
    },
    {
      "cell_type": "code",
      "execution_count": null,
      "metadata": {
        "id": "A95P-we0FXgR",
        "outputId": "e0ba47bb-089e-4018-fb50-d11979da0e3e"
      },
      "outputs": [
        {
          "name": "stdout",
          "output_type": "stream",
          "text": [
            "3\n"
          ]
        }
      ],
      "source": [
        "print(a[0])"
      ]
    },
    {
      "cell_type": "code",
      "execution_count": null,
      "metadata": {
        "id": "v73d9eSUFXgR",
        "outputId": "4b18f5fb-424f-48b7-8d50-a06068b875de"
      },
      "outputs": [
        {
          "name": "stdout",
          "output_type": "stream",
          "text": [
            "1\n"
          ]
        }
      ],
      "source": [
        "print(a[3])"
      ]
    },
    {
      "cell_type": "code",
      "execution_count": null,
      "metadata": {
        "collapsed": true,
        "id": "ZBD7mn8aFXgS"
      },
      "outputs": [],
      "source": [
        "a[0] = 100"
      ]
    },
    {
      "cell_type": "code",
      "execution_count": null,
      "metadata": {
        "id": "-UKKkHagFXgS",
        "outputId": "035396a7-1d4e-4b2d-ba51-d30395a77c8a"
      },
      "outputs": [
        {
          "name": "stdout",
          "output_type": "stream",
          "text": [
            "[100, 10, -1, 1]\n"
          ]
        }
      ],
      "source": [
        "print(a)"
      ]
    },
    {
      "cell_type": "code",
      "execution_count": null,
      "metadata": {
        "id": "JX8t3G7ZFXgS",
        "outputId": "98cd0b79-a7bf-44d0-b65f-1ea4cd9f515d"
      },
      "outputs": [
        {
          "name": "stdout",
          "output_type": "stream",
          "text": [
            "['banana', 'apple', 'microsoft']\n"
          ]
        }
      ],
      "source": [
        "b = [\"banana\", \"apple\", \"microsoft\"]\n",
        "print(b)"
      ]
    },
    {
      "cell_type": "code",
      "execution_count": null,
      "metadata": {
        "id": "pqqY_m2oFXgT",
        "outputId": "8bf60131-1089-4771-d7b0-09a5b7e8617c"
      },
      "outputs": [
        {
          "name": "stdout",
          "output_type": "stream",
          "text": [
            "['microsoft', 'apple', 'banana']\n"
          ]
        }
      ],
      "source": [
        "temp = b[0]\n",
        "b[0] = b[2]\n",
        "b[2] = temp\n",
        "print(b)"
      ]
    },
    {
      "cell_type": "code",
      "execution_count": null,
      "metadata": {
        "id": "Srq56BWJFXgT",
        "outputId": "56043d0f-9fc4-4b23-d16b-1374e61bca4d"
      },
      "outputs": [
        {
          "name": "stdout",
          "output_type": "stream",
          "text": [
            "['banana', 'apple', 'microsoft']\n"
          ]
        }
      ],
      "source": [
        "b[0], b[2] = b[2], b[0]\n",
        "print(b)"
      ]
    }
  ],
  "metadata": {
    "kernelspec": {
      "display_name": "Python 3",
      "language": "python",
      "name": "python3"
    },
    "language_info": {
      "codemirror_mode": {
        "name": "ipython",
        "version": 3
      },
      "file_extension": ".py",
      "mimetype": "text/x-python",
      "name": "python",
      "nbconvert_exporter": "python",
      "pygments_lexer": "ipython3",
      "version": "3.6.3"
    },
    "colab": {
      "provenance": []
    }
  },
  "nbformat": 4,
  "nbformat_minor": 0
}