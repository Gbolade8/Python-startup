{
  "cells": [
    {
      "cell_type": "code",
      "execution_count": null,
      "metadata": {
        "collapsed": true,
        "id": "2HLqcGBCPKTq"
      },
      "outputs": [],
      "source": [
        "v1 = \"first string\"\n",
        "v2 = \"second string\""
      ]
    },
    {
      "cell_type": "code",
      "execution_count": null,
      "metadata": {
        "collapsed": true,
        "id": "0p0v-a95PKTt"
      },
      "outputs": [],
      "source": [
        "temp = v1\n",
        "v1 = v2\n",
        "v2 = temp"
      ]
    },
    {
      "cell_type": "code",
      "execution_count": null,
      "metadata": {
        "id": "Anxoa4CvPKTu",
        "outputId": "3a294b24-f773-4751-effe-f11765a1c743"
      },
      "outputs": [
        {
          "name": "stdout",
          "output_type": "stream",
          "text": [
            "second string\n"
          ]
        }
      ],
      "source": [
        "print(v1)"
      ]
    },
    {
      "cell_type": "code",
      "execution_count": null,
      "metadata": {
        "id": "yeQfKxBKPKTw",
        "outputId": "b763ab50-99c2-45db-e3b6-c9078ace1830"
      },
      "outputs": [
        {
          "name": "stdout",
          "output_type": "stream",
          "text": [
            "first string\n"
          ]
        }
      ],
      "source": [
        "print(v2)"
      ]
    },
    {
      "cell_type": "code",
      "execution_count": null,
      "metadata": {
        "collapsed": true,
        "id": "L5cPKaVrPKTw"
      },
      "outputs": [],
      "source": [
        "csdojo.io/python1\n",
        "csdojo.io/news\n",
        "\n",
        "comment below\n",
        "\n",
        "YK from CS Dojo"
      ]
    }
  ],
  "metadata": {
    "kernelspec": {
      "display_name": "Python 3",
      "language": "python",
      "name": "python3"
    },
    "language_info": {
      "codemirror_mode": {
        "name": "ipython",
        "version": 3
      },
      "file_extension": ".py",
      "mimetype": "text/x-python",
      "name": "python",
      "nbconvert_exporter": "python",
      "pygments_lexer": "ipython3",
      "version": "3.6.3"
    },
    "colab": {
      "provenance": []
    }
  },
  "nbformat": 4,
  "nbformat_minor": 0
}