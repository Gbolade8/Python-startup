{
  "cells": [
    {
      "cell_type": "code",
      "execution_count": null,
      "metadata": {
        "id": "JG27qt4mDJ9J",
        "outputId": "ccb74665-e58b-4116-c93c-a38fa44ee1be"
      },
      "outputs": [
        {
          "name": "stdout",
          "output_type": "stream",
          "text": [
            "a is less than b\n",
            "a is definitely less than b\n",
            "Not sure if a is less than b\n"
          ]
        }
      ],
      "source": [
        "a = 1\n",
        "b = 2\n",
        "if a < b:\n",
        "    print(\"a is less than b\")\n",
        "    print(\"a is definitely less than b\")\n",
        "print(\"Not sure if a is less than b\")"
      ]
    },
    {
      "cell_type": "code",
      "execution_count": null,
      "metadata": {
        "id": "5Qez-8_BDJ9M",
        "outputId": "dd5a9524-b0e1-44ec-aa86-240f59517852"
      },
      "outputs": [
        {
          "name": "stdout",
          "output_type": "stream",
          "text": [
            "c is NOT less than d\n",
            "I don't think c is less than d\n",
            "outside the if block\n"
          ]
        }
      ],
      "source": [
        "c = 5\n",
        "d = 4\n",
        "if c < d:\n",
        "    print(\"c is less than d\")\n",
        "else:\n",
        "    print(\"c is NOT less than d\")\n",
        "    print(\"I don't think c is less than d\")\n",
        "print(\"outside the if block\")"
      ]
    },
    {
      "cell_type": "code",
      "execution_count": null,
      "metadata": {
        "id": "be2GnVB1DJ9N",
        "outputId": "c7ad5d22-55ea-4697-8b1c-260c592c575b"
      },
      "outputs": [
        {
          "name": "stdout",
          "output_type": "stream",
          "text": [
            "e is greater than f by more than 10\n"
          ]
        }
      ],
      "source": [
        "e = 20\n",
        "f = 8\n",
        "if e < f:\n",
        "    print(\"e is less than f\")\n",
        "elif e == f:\n",
        "    print(\"e is equal to f\")\n",
        "elif e > f + 10:\n",
        "    print(\"e is greater than f by more than 10\")\n",
        "else:\n",
        "    print(\"e is greater than f\")"
      ]
    },
    {
      "cell_type": "code",
      "execution_count": null,
      "metadata": {
        "id": "mHu1WwV2DJ9N",
        "outputId": "25f5deeb-5f0f-4f6b-d6a0-238217c939cc"
      },
      "outputs": [
        {
          "name": "stdout",
          "output_type": "stream",
          "text": [
            "g is greater than h\n"
          ]
        }
      ],
      "source": [
        "g = 9\n",
        "h = 8\n",
        "if g < h:\n",
        "    print(\"g is less than h\")\n",
        "else:\n",
        "    if g == h:\n",
        "        print(\"g is equal to h\")\n",
        "    else:\n",
        "        print(\"g is greater than h\")"
      ]
    },
    {
      "cell_type": "code",
      "execution_count": null,
      "metadata": {
        "id": "VU_0Go2gDJ9O",
        "outputId": "628c5e54-a2ab-4492-f75f-02745476fc4a"
      },
      "outputs": [
        {
          "name": "stdout",
          "output_type": "stream",
          "text": [
            "bmi: \n",
            "27.5\n",
            "YK\n",
            "is overweight\n"
          ]
        }
      ],
      "source": [
        "name = \"YK\"\n",
        "height_m = 2\n",
        "weight_kg = 110\n",
        "\n",
        "bmi = weight_kg / (height_m ** 2)\n",
        "print(\"bmi: \")\n",
        "print(bmi)\n",
        "if bmi < 25:\n",
        "    print(name)\n",
        "    print(\"is not overweight\")\n",
        "else:\n",
        "    print(name)\n",
        "    print(\"is overweight\")"
      ]
    }
  ],
  "metadata": {
    "kernelspec": {
      "display_name": "Python 3",
      "language": "python",
      "name": "python3"
    },
    "language_info": {
      "codemirror_mode": {
        "name": "ipython",
        "version": 3
      },
      "file_extension": ".py",
      "mimetype": "text/x-python",
      "name": "python",
      "nbconvert_exporter": "python",
      "pygments_lexer": "ipython3",
      "version": "3.6.3"
    },
    "colab": {
      "provenance": [],
      "toc_visible": true
    }
  },
  "nbformat": 4,
  "nbformat_minor": 0
}