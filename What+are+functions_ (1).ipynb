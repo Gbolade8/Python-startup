{
  "cells": [
    {
      "cell_type": "code",
      "execution_count": null,
      "metadata": {
        "id": "CJcPOdJDF9aC",
        "outputId": "c1b99f35-09cd-4abc-d70d-f5d38f6fcf19"
      },
      "outputs": [
        {
          "name": "stdout",
          "output_type": "stream",
          "text": [
            "this is outside the function\n"
          ]
        }
      ],
      "source": [
        "# a collection of instructions\n",
        "# a collection of code\n",
        "def function1():\n",
        "    print(\"ahhhh\")\n",
        "    print(\"ahhhhh 2\")\n",
        "print(\"this is outside the function\")"
      ]
    },
    {
      "cell_type": "code",
      "execution_count": null,
      "metadata": {
        "id": "K2l3rU8-F9aE",
        "outputId": "332c6aec-50bd-405e-aca3-4afc4bcf9d7e"
      },
      "outputs": [
        {
          "name": "stdout",
          "output_type": "stream",
          "text": [
            "ahhhh\n",
            "ahhhhh 2\n"
          ]
        }
      ],
      "source": [
        "function1()"
      ]
    },
    {
      "cell_type": "code",
      "execution_count": null,
      "metadata": {
        "id": "EVkw0x5QF9aF",
        "outputId": "50fc6122-53cc-453c-8415-8390aa3db1c9"
      },
      "outputs": [
        {
          "name": "stdout",
          "output_type": "stream",
          "text": [
            "ahhhh\n",
            "ahhhhh 2\n",
            "ahhhh\n",
            "ahhhhh 2\n"
          ]
        }
      ],
      "source": [
        "function1()\n",
        "function1()"
      ]
    },
    {
      "cell_type": "code",
      "execution_count": null,
      "metadata": {
        "collapsed": true,
        "id": "Lc6bAv-lF9aG"
      },
      "outputs": [],
      "source": [
        "# a mapping\n",
        "# input or an argument\n",
        "def function2(x):\n",
        "    return 2*x"
      ]
    },
    {
      "cell_type": "code",
      "execution_count": null,
      "metadata": {
        "collapsed": true,
        "id": "Jc6P_VH3F9aG"
      },
      "outputs": [],
      "source": [
        "a = function2(3)\n",
        "# return value or output"
      ]
    },
    {
      "cell_type": "code",
      "execution_count": null,
      "metadata": {
        "id": "9lB4n9B0F9aH",
        "outputId": "69148d67-6925-43e3-e657-69efab090938"
      },
      "outputs": [
        {
          "name": "stdout",
          "output_type": "stream",
          "text": [
            "6\n"
          ]
        }
      ],
      "source": [
        "print(a)"
      ]
    },
    {
      "cell_type": "code",
      "execution_count": null,
      "metadata": {
        "collapsed": true,
        "id": "v6ftdSjTF9aH"
      },
      "outputs": [],
      "source": [
        "b = function2(4)"
      ]
    },
    {
      "cell_type": "code",
      "execution_count": null,
      "metadata": {
        "id": "bgTYQGw_F9aH",
        "outputId": "cd25b8c0-884f-4a33-8576-15b503fd5001"
      },
      "outputs": [
        {
          "name": "stdout",
          "output_type": "stream",
          "text": [
            "8\n"
          ]
        }
      ],
      "source": [
        "print(b)"
      ]
    },
    {
      "cell_type": "code",
      "execution_count": null,
      "metadata": {
        "id": "StFR3LsiF9aI",
        "outputId": "cd9936f3-3819-4c10-ef1e-b96abbeafc9c"
      },
      "outputs": [
        {
          "name": "stdout",
          "output_type": "stream",
          "text": [
            "10\n"
          ]
        }
      ],
      "source": [
        "c = function2(5)\n",
        "print(c)"
      ]
    },
    {
      "cell_type": "code",
      "execution_count": null,
      "metadata": {
        "id": "nlCyOT01F9aI",
        "outputId": "216d36f6-36f9-49bb-f64f-7fbaf8efcee1"
      },
      "outputs": [
        {
          "ename": "TypeError",
          "evalue": "function2() missing 1 required positional argument: 'x'",
          "output_type": "error",
          "traceback": [
            "\u001b[0;31m---------------------------------------------------------------------------\u001b[0m",
            "\u001b[0;31mTypeError\u001b[0m                                 Traceback (most recent call last)",
            "\u001b[0;32m<ipython-input-10-fb94927463a6>\u001b[0m in \u001b[0;36m<module>\u001b[0;34m()\u001b[0m\n\u001b[0;32m----> 1\u001b[0;31m \u001b[0md\u001b[0m \u001b[0;34m=\u001b[0m \u001b[0mfunction2\u001b[0m\u001b[0;34m(\u001b[0m\u001b[0;34m)\u001b[0m\u001b[0;34m\u001b[0m\u001b[0m\n\u001b[0m",
            "\u001b[0;31mTypeError\u001b[0m: function2() missing 1 required positional argument: 'x'"
          ]
        }
      ],
      "source": [
        "d = function2()"
      ]
    },
    {
      "cell_type": "code",
      "execution_count": null,
      "metadata": {
        "collapsed": true,
        "id": "n15zfCJ5F9aJ"
      },
      "outputs": [],
      "source": [
        "def function3(x, y):\n",
        "    return x + y"
      ]
    },
    {
      "cell_type": "code",
      "execution_count": null,
      "metadata": {
        "id": "GT6LgvfRF9aJ",
        "outputId": "99879e45-fc93-4a3b-8528-a73496664138"
      },
      "outputs": [
        {
          "name": "stdout",
          "output_type": "stream",
          "text": [
            "3\n"
          ]
        }
      ],
      "source": [
        "e = function3(1, 2)\n",
        "print(e)"
      ]
    },
    {
      "cell_type": "code",
      "execution_count": null,
      "metadata": {
        "collapsed": true,
        "id": "YLu2R19nF9aJ"
      },
      "outputs": [],
      "source": [
        "def function4(x):\n",
        "    print(x)\n",
        "    print(\"still in this function\")\n",
        "    return 3*x"
      ]
    },
    {
      "cell_type": "code",
      "execution_count": null,
      "metadata": {
        "id": "jRzKgOmwF9aK",
        "outputId": "de7fd618-307f-4644-b270-762c23b46a41"
      },
      "outputs": [
        {
          "name": "stdout",
          "output_type": "stream",
          "text": [
            "4\n",
            "still in this function\n"
          ]
        }
      ],
      "source": [
        "f = function4(4)"
      ]
    },
    {
      "cell_type": "code",
      "execution_count": null,
      "metadata": {
        "id": "uTubFo9BF9aK",
        "outputId": "6f0fd011-675e-40a7-8911-a70f7ca9cbea"
      },
      "outputs": [
        {
          "name": "stdout",
          "output_type": "stream",
          "text": [
            "12\n"
          ]
        }
      ],
      "source": [
        "print(f)"
      ]
    },
    {
      "cell_type": "code",
      "execution_count": null,
      "metadata": {
        "collapsed": true,
        "id": "RfZjl4D6F9aL"
      },
      "outputs": [],
      "source": [
        "def function5(some_argument):\n",
        "    print(some_argument)\n",
        "    print(\"weeee\")"
      ]
    },
    {
      "cell_type": "code",
      "execution_count": null,
      "metadata": {
        "id": "KbnbC_4EF9aL",
        "outputId": "a565e62a-d6cd-4ab4-be9a-8d4e353d53a6"
      },
      "outputs": [
        {
          "name": "stdout",
          "output_type": "stream",
          "text": [
            "4\n",
            "weeee\n"
          ]
        }
      ],
      "source": [
        "function5(4)"
      ]
    },
    {
      "cell_type": "code",
      "execution_count": null,
      "metadata": {
        "collapsed": true,
        "id": "xAADRDSoF9aL"
      },
      "outputs": [],
      "source": [
        "# BMI calculator\n",
        "name1 = \"YK\"\n",
        "height_m1 = 2\n",
        "weight_kg1 = 90\n",
        "\n",
        "name2 = \"YK's sister\"\n",
        "height_m2 = 1.8\n",
        "weight_kg2 = 70\n",
        "\n",
        "name3 = \"YK's brother\"\n",
        "height_m3 = 2.5\n",
        "weight_kg3 = 160"
      ]
    },
    {
      "cell_type": "code",
      "execution_count": null,
      "metadata": {
        "collapsed": true,
        "id": "UaOMOmelF9aL"
      },
      "outputs": [],
      "source": [
        "def bmi_calculator(name, height_m, weight_kg):\n",
        "    bmi = weight_kg / (height_m ** 2)\n",
        "    print(\"bmi: \")\n",
        "    print(bmi)\n",
        "    if bmi < 25:\n",
        "        return name + \" is not overweight\"\n",
        "    else:\n",
        "        return name + \" is overweight\""
      ]
    },
    {
      "cell_type": "code",
      "execution_count": null,
      "metadata": {
        "id": "X_FP5wv-F9aM",
        "outputId": "15f59ccc-0361-45ee-d183-e88ff67a5b9c"
      },
      "outputs": [
        {
          "name": "stdout",
          "output_type": "stream",
          "text": [
            "bmi: \n",
            "22.5\n",
            "bmi: \n",
            "21.604938271604937\n",
            "bmi: \n",
            "25.6\n"
          ]
        }
      ],
      "source": [
        "result1 = bmi_calculator(name1, height_m1, weight_kg1)\n",
        "result2 = bmi_calculator(name2, height_m2, weight_kg2)\n",
        "result3 = bmi_calculator(name3, height_m3, weight_kg3)"
      ]
    },
    {
      "cell_type": "code",
      "execution_count": null,
      "metadata": {
        "id": "f6W7I5SsF9aM",
        "outputId": "1b91f010-29eb-4f96-ef07-1b7a522ae1d9"
      },
      "outputs": [
        {
          "name": "stdout",
          "output_type": "stream",
          "text": [
            "YK is not overweight\n",
            "YK's sister is not overweight\n",
            "YK's brother is overweight\n"
          ]
        }
      ],
      "source": [
        "print(result1)\n",
        "print(result2)\n",
        "print(result3)"
      ]
    },
    {
      "cell_type": "code",
      "execution_count": null,
      "metadata": {
        "collapsed": true,
        "id": "xxKfKvLnF9aM"
      },
      "outputs": [],
      "source": [
        "# Solution to the task:\n",
        "# The following function converts miles to kilometers.\n",
        "# km = 1.6 * miles\n",
        "def convert(miles):\n",
        "    return 1.6 * miles"
      ]
    },
    {
      "cell_type": "code",
      "execution_count": null,
      "metadata": {
        "id": "HQEKXZRaF9aM",
        "outputId": "a86dd5a8-1eb2-467e-bae4-561d50ac2129"
      },
      "outputs": [
        {
          "name": "stdout",
          "output_type": "stream",
          "text": [
            "1.6\n"
          ]
        }
      ],
      "source": [
        "print(convert(1))"
      ]
    },
    {
      "cell_type": "code",
      "execution_count": null,
      "metadata": {
        "id": "I5cHCYq-F9aM",
        "outputId": "83e8ebc1-3e22-4d2a-da82-a823ba85e36a"
      },
      "outputs": [
        {
          "name": "stdout",
          "output_type": "stream",
          "text": [
            "3.2\n"
          ]
        }
      ],
      "source": [
        "print(convert(2))"
      ]
    }
  ],
  "metadata": {
    "kernelspec": {
      "display_name": "Python 3",
      "language": "python",
      "name": "python3"
    },
    "language_info": {
      "codemirror_mode": {
        "name": "ipython",
        "version": 3
      },
      "file_extension": ".py",
      "mimetype": "text/x-python",
      "name": "python",
      "nbconvert_exporter": "python",
      "pygments_lexer": "ipython3",
      "version": "3.6.3"
    },
    "colab": {
      "provenance": []
    }
  },
  "nbformat": 4,
  "nbformat_minor": 0
}